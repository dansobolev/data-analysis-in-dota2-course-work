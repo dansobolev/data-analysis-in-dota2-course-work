{
 "cells": [
  {
   "cell_type": "code",
   "execution_count": 5,
   "id": "ca1fdfea-ae1a-47a9-8743-4181c48120f0",
   "metadata": {},
   "outputs": [],
   "source": [
    "import json\n",
    "\n",
    "import pandas as pd\n",
    "import numpy as np\n",
    "import requests"
   ]
  },
  {
   "cell_type": "code",
   "execution_count": 6,
   "id": "41e1afbc-df21-4c4d-ad06-e9705084417d",
   "metadata": {},
   "outputs": [
    {
     "data": {
      "text/plain": [
       "'matches.match_id, match_patch.patch, matches.chat, matches.radiant_win, matches.duration, matches.first_blood_time, matches.radiant_score, matches.dire_score, matches.objectives, matches.teamfights, matches.radiant_gold_adv, matches.radiant_xp_adv'"
      ]
     },
     "execution_count": 6,
     "metadata": {},
     "output_type": "execute_result"
    }
   ],
   "source": [
    "attrs = 'matches.match_id, match_patch.patch, matches.chat, matches.radiant_win, matches.duration, matches.first_blood_time, matches.radiant_score, matches.dire_score, matches.objectives, matches.teamfights, matches.radiant_gold_adv, matches.radiant_xp_adv'\n",
    "attrs"
   ]
  },
  {
   "cell_type": "code",
   "execution_count": 8,
   "id": "151e1caa-73e7-48b5-a69c-b7bfdc8b6a58",
   "metadata": {},
   "outputs": [],
   "source": [
    "limit = 100\n",
    "with open('matches.json', 'w', encoding='utf-8') as writer:\n",
    "    response = requests.get(\n",
    "        f\"https://api.opendota.com/api/explorer?sql=SELECT {attrs} FROM matches JOIN match_patch using(match_id) WHERE TRUE AND matches.start_time >= extract(epoch from timestamp '2021-06-01T21:00:00.000Z') AND matches.start_time <= extract(epoch from timestamp '2021-10-01T21:00:00.000Z') ORDER BY matches.match_id NULLS LAST LIMIT {limit}\"\n",
    "    )\n",
    "    if response.status_code == 200:\n",
    "        writer.write(response.text)\n",
    "    else:\n",
    "        print('Bad status code: ', response.status_code)"
   ]
  },
  {
   "cell_type": "code",
   "execution_count": 3,
   "id": "7565911e-09a7-40e4-a740-62fea9034584",
   "metadata": {},
   "outputs": [],
   "source": [
    "with open('matches.json', 'r', encoding='utf-8') as file:\n",
    "    data = json.loads(file.read())"
   ]
  },
  {
   "cell_type": "code",
   "execution_count": 4,
   "id": "c5f33af9-fa8d-4d4f-ab42-727e8b023f9f",
   "metadata": {},
   "outputs": [],
   "source": [
    "matches_data = [row for row in data['rows']]"
   ]
  },
  {
   "cell_type": "code",
   "execution_count": 1,
   "id": "cadaeb6f-0963-4c7e-a1ad-5a40a7597338",
   "metadata": {},
   "outputs": [],
   "source": [
    "# matches_data[0]"
   ]
  },
  {
   "cell_type": "code",
   "execution_count": null,
   "id": "abc5f5e6-f054-47fc-9127-887df97552c8",
   "metadata": {},
   "outputs": [],
   "source": []
  }
 ],
 "metadata": {
  "kernelspec": {
   "display_name": "Python 3",
   "language": "python",
   "name": "python3"
  },
  "language_info": {
   "codemirror_mode": {
    "name": "ipython",
    "version": 3
   },
   "file_extension": ".py",
   "mimetype": "text/x-python",
   "name": "python",
   "nbconvert_exporter": "python",
   "pygments_lexer": "ipython3",
   "version": "3.8.8"
  }
 },
 "nbformat": 4,
 "nbformat_minor": 5
}
