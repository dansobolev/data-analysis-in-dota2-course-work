{
 "cells": [
  {
   "cell_type": "code",
   "execution_count": 1,
   "id": "ca1fdfea-ae1a-47a9-8743-4181c48120f0",
   "metadata": {},
   "outputs": [],
   "source": [
    "import json\n",
    "\n",
    "import pandas as pd\n",
    "import numpy as np\n",
    "import requests"
   ]
  },
  {
   "cell_type": "code",
   "execution_count": 2,
   "id": "41e1afbc-df21-4c4d-ad06-e9705084417d",
   "metadata": {},
   "outputs": [
    {
     "data": {
      "text/plain": [
       "'matches.match_id, match_patch.patch, matches.chat, matches.radiant_win, matches.duration, matches.first_blood_time, matches.radiant_score, matches.dire_score, matches.objectives, matches.teamfights, matches.radiant_gold_adv, matches.radiant_xp_adv'"
      ]
     },
     "execution_count": 2,
     "metadata": {},
     "output_type": "execute_result"
    }
   ],
   "source": [
    "attrs = 'matches.match_id, match_patch.patch, matches.chat, matches.radiant_win, matches.duration, matches.first_blood_time, matches.radiant_score, matches.dire_score, matches.objectives, matches.teamfights, matches.radiant_gold_adv, matches.radiant_xp_adv'\n",
    "attrs"
   ]
  },
  {
   "cell_type": "code",
   "execution_count": 3,
   "id": "151e1caa-73e7-48b5-a69c-b7bfdc8b6a58",
   "metadata": {},
   "outputs": [
    {
     "name": "stdout",
     "output_type": "stream",
     "text": [
      "0\n",
      "1000\n",
      "2000\n",
      "3000\n"
     ]
    }
   ],
   "source": [
    "limit = 1000\n",
    "with open('matches.json', 'w', encoding='utf-8') as writer:\n",
    "    matches_dicts = []\n",
    "    responses_status = []\n",
    "    for offset in range(0, 4000, 1000):\n",
    "        print(offset)\n",
    "        response = requests.get(\n",
    "            f\"https://api.opendota.com/api/explorer?sql=SELECT {attrs} FROM matches JOIN match_patch using(match_id) WHERE TRUE AND matches.start_time >= extract(epoch from timestamp '2021-06-01T21:00:00.000Z') AND matches.start_time <= extract(epoch from timestamp '2021-10-01T21:00:00.000Z') ORDER BY matches.match_id NULLS LAST LIMIT {limit} OFFSET {offset}\"\n",
    "        )\n",
    "        matches_dicts.append(response.json())\n",
    "        responses_status.append(response.status_code)\n",
    "    shared_dict = []\n",
    "    for dict_ in matches_dicts:\n",
    "        shared_dict.append(dict_)\n",
    "    if all([status_code == 200 for status_code in responses_status]):\n",
    "        dict_to_save = json.dumps(shared_dict)\n",
    "        writer.write(dict_to_save)\n",
    "    else:\n",
    "        print('Something went wrong, status code is: ', response.status_code)"
   ]
  },
  {
   "cell_type": "code",
   "execution_count": 5,
   "id": "54037314-d3bb-4f99-9cd8-66b14edf92ea",
   "metadata": {},
   "outputs": [
    {
     "data": {
      "text/plain": [
       "4"
      ]
     },
     "execution_count": 5,
     "metadata": {},
     "output_type": "execute_result"
    }
   ],
   "source": [
    "len(matches_dicts)"
   ]
  },
  {
   "cell_type": "code",
   "execution_count": 6,
   "id": "7565911e-09a7-40e4-a740-62fea9034584",
   "metadata": {},
   "outputs": [],
   "source": [
    "with open('matches.json', 'r', encoding='utf-8') as file:\n",
    "    data = json.loads(file.read())"
   ]
  },
  {
   "cell_type": "code",
   "execution_count": 7,
   "id": "e617c452-ffc9-4d2f-b713-98882274d612",
   "metadata": {},
   "outputs": [],
   "source": [
    "all_list_data = []\n",
    "for data_ in data:\n",
    "    all_list_data.append(data_['rows'])\n",
    "# all_list_data"
   ]
  },
  {
   "cell_type": "code",
   "execution_count": 8,
   "id": "99df7bcc-6fab-41a5-9068-9f1c4682a954",
   "metadata": {},
   "outputs": [
    {
     "data": {
      "text/plain": [
       "4000"
      ]
     },
     "execution_count": 8,
     "metadata": {},
     "output_type": "execute_result"
    }
   ],
   "source": [
    "flat_list = [item for sublist in all_list_data for item in sublist]\n",
    "len(flat_list)"
   ]
  },
  {
   "cell_type": "code",
   "execution_count": 10,
   "id": "c70bb433-0690-4bba-b899-78aa8aaf852a",
   "metadata": {},
   "outputs": [
    {
     "data": {
      "text/plain": [
       "dict_keys(['match_id', 'patch', 'chat', 'radiant_win', 'duration', 'first_blood_time', 'radiant_score', 'dire_score', 'objectives', 'teamfights', 'radiant_gold_adv', 'radiant_xp_adv'])"
      ]
     },
     "execution_count": 10,
     "metadata": {},
     "output_type": "execute_result"
    }
   ],
   "source": [
    "flat_list[0].keys()"
   ]
  },
  {
   "cell_type": "code",
   "execution_count": null,
   "id": "3accf642-5172-4888-bf8c-26c8ff817df8",
   "metadata": {},
   "outputs": [],
   "source": []
  },
  {
   "cell_type": "code",
   "execution_count": null,
   "id": "4c7c4958-b7b2-42ce-a85f-81afdb24fd0a",
   "metadata": {},
   "outputs": [],
   "source": []
  }
 ],
 "metadata": {
  "kernelspec": {
   "display_name": "Python 3",
   "language": "python",
   "name": "python3"
  },
  "language_info": {
   "codemirror_mode": {
    "name": "ipython",
    "version": 3
   },
   "file_extension": ".py",
   "mimetype": "text/x-python",
   "name": "python",
   "nbconvert_exporter": "python",
   "pygments_lexer": "ipython3",
   "version": "3.8.8"
  }
 },
 "nbformat": 4,
 "nbformat_minor": 5
}
