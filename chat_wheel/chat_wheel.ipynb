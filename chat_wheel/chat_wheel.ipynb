{
 "cells": [
  {
   "cell_type": "code",
   "execution_count": 1,
   "id": "c2046d55-3b00-4cd2-bb65-9e674c4efaac",
   "metadata": {},
   "outputs": [],
   "source": [
    "import requests"
   ]
  },
  {
   "cell_type": "code",
   "execution_count": 5,
   "id": "b069fdeb-8355-4945-b2b7-d546446530d2",
   "metadata": {},
   "outputs": [],
   "source": [
    "# get chat wheel phrases\n",
    "chat_wheel = requests.get(\"https://api.opendota.com/api/constants/chat_wheel\")\n",
    "if chat_wheel.status_code == 200:\n",
    "    with open('chat_wheel.json', 'w', encoding='utf-8') as writer:\n",
    "        writer.write(chat_wheel.text)"
   ]
  },
  {
   "cell_type": "code",
   "execution_count": null,
   "id": "8a6f98d9-4776-4a21-acd1-27d4383c224c",
   "metadata": {},
   "outputs": [],
   "source": []
  }
 ],
 "metadata": {
  "kernelspec": {
   "display_name": "Python 3",
   "language": "python",
   "name": "python3"
  },
  "language_info": {
   "codemirror_mode": {
    "name": "ipython",
    "version": 3
   },
   "file_extension": ".py",
   "mimetype": "text/x-python",
   "name": "python",
   "nbconvert_exporter": "python",
   "pygments_lexer": "ipython3",
   "version": "3.8.8"
  }
 },
 "nbformat": 4,
 "nbformat_minor": 5
}
