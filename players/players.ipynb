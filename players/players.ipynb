{
 "cells": [
  {
   "cell_type": "code",
   "execution_count": 2,
   "id": "b403a57d-a8c4-40ab-8441-167c7287bf0a",
   "metadata": {},
   "outputs": [],
   "source": [
    "import json\n",
    "\n",
    "import pandas as pd\n",
    "import numpy as np\n",
    "import requests"
   ]
  },
  {
   "cell_type": "code",
   "execution_count": 8,
   "id": "b043a943-f956-4693-9d37-591be5836294",
   "metadata": {},
   "outputs": [],
   "source": [
    "limit = 1000\n",
    "with open('players.json', 'w', encoding='utf-8') as writer:\n",
    "    response = requests.get(f\"https://api.opendota.com/api/explorer?sql=SELECT player_matches.match_id, player_matches.player_slot, player_matches.hero_id, player_matches.firstblood_claimed, player_matches.xp_t, player_matches.gold_t, player_matches.times, player_matches.dn_t, player_matches.lh_t, player_matches.purchase_log, player_matches.buyback_log, player_matches.kills_log, player_matches.runes_log FROM player_matches JOIN matches using(match_id) WHERE TRUE AND matches.start_time >= extract(epoch from timestamp '2021-06-01T21:00:00.000Z') AND matches.start_time <= extract(epoch from timestamp '2021-10-01T21:00:00.000Z') ORDER BY player_matches.match_id NULLS LAST LIMIT {limit}\")\n",
    "    if response.status_code == 200:\n",
    "        writer.write(response.text)\n",
    "    else:\n",
    "        print('Bad status code: ', response.status_code)"
   ]
  },
  {
   "cell_type": "code",
   "execution_count": 3,
   "id": "40bbeba1-c0a0-4698-a5b6-db1124432e4b",
   "metadata": {},
   "outputs": [],
   "source": [
    "with open('players.json', 'r', encoding='utf-8') as file:\n",
    "    data = json.loads(file.read())"
   ]
  },
  {
   "cell_type": "code",
   "execution_count": 16,
   "id": "96fa8a2c-ccd4-4e8c-ada4-c85bd2777a31",
   "metadata": {},
   "outputs": [],
   "source": [
    "players_data = [row for row in data['rows']]"
   ]
  },
  {
   "cell_type": "code",
   "execution_count": 1,
   "id": "270fbdef-e5f5-41a4-8976-080ec25d3e8f",
   "metadata": {},
   "outputs": [],
   "source": [
    "# players_data[0]"
   ]
  },
  {
   "cell_type": "code",
   "execution_count": null,
   "id": "45152424-1a08-4bc2-b586-14c999ed2318",
   "metadata": {},
   "outputs": [],
   "source": []
  }
 ],
 "metadata": {
  "kernelspec": {
   "display_name": "Python 3",
   "language": "python",
   "name": "python3"
  },
  "language_info": {
   "codemirror_mode": {
    "name": "ipython",
    "version": 3
   },
   "file_extension": ".py",
   "mimetype": "text/x-python",
   "name": "python",
   "nbconvert_exporter": "python",
   "pygments_lexer": "ipython3",
   "version": "3.8.8"
  }
 },
 "nbformat": 4,
 "nbformat_minor": 5
}
