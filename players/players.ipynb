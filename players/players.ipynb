{
 "cells": [
  {
   "cell_type": "code",
   "execution_count": 13,
   "id": "b403a57d-a8c4-40ab-8441-167c7287bf0a",
   "metadata": {},
   "outputs": [],
   "source": [
    "import json\n",
    "\n",
    "import pandas as pd\n",
    "import numpy as np\n",
    "import requests"
   ]
  },
  {
   "cell_type": "code",
   "execution_count": 17,
   "id": "b86effb4-4a8a-4f43-b9b7-8ab1ea76b645",
   "metadata": {},
   "outputs": [
    {
     "data": {
      "text/plain": [
       "'player_matches.match_id, player_matches.player_slot, player_matches.hero_id, player_matches.firstblood_claimed, player_matches.xp_t, player_matches.gold_t, player_matches.times, player_matches.dn_t, player_matches.lh_t, player_matches.purchase_log, player_matches.buyback_log, player_matches.kills_log, player_matches.runes_log, player_matches.obs_log, player_matches.sen_log'"
      ]
     },
     "execution_count": 17,
     "metadata": {},
     "output_type": "execute_result"
    }
   ],
   "source": [
    "sql_attrs = 'player_matches.match_id, player_matches.player_slot, player_matches.hero_id, player_matches.firstblood_claimed, player_matches.xp_t, player_matches.gold_t, player_matches.times, player_matches.dn_t, player_matches.lh_t, player_matches.purchase_log, player_matches.buyback_log, player_matches.kills_log, player_matches.runes_log, player_matches.obs_log, player_matches.sen_log'\n",
    "sql_attrs"
   ]
  },
  {
   "cell_type": "code",
   "execution_count": 27,
   "id": "b043a943-f956-4693-9d37-591be5836294",
   "metadata": {},
   "outputs": [],
   "source": [
    "limit = 10000\n",
    "with open('players.json', 'w', encoding='utf-8') as writer:\n",
    "    players_dicts = []\n",
    "    responses_status = []\n",
    "    for offset in range(0, 40000, 10000):\n",
    "        response = requests.get(\n",
    "            f\"https://api.opendota.com/api/explorer?sql=SELECT {sql_attrs} FROM player_matches JOIN matches using(match_id) WHERE TRUE AND matches.start_time >= extract(epoch from timestamp '2021-06-01T21:00:00.000Z') AND matches.start_time <= extract(epoch from timestamp '2021-10-01T21:00:00.000Z') ORDER BY player_matches.match_id NULLS LAST LIMIT {limit} OFFSET {offset}\"\n",
    "        )\n",
    "        players_dicts.append(response.json())\n",
    "        responses_status.append(response.status_code)\n",
    "    shared_dict = []\n",
    "    for dict_ in players_dicts:\n",
    "        shared_dict.append(dict_)\n",
    "    if all([status_code == 200 for status_code in responses_status]):\n",
    "        dict_to_save = json.dumps(shared_dict)\n",
    "        writer.write(dict_to_save)\n",
    "    else:\n",
    "        print('Something went wrong, status code is: ', response.status_code)"
   ]
  },
  {
   "cell_type": "code",
   "execution_count": 28,
   "id": "d104c7a6-d27e-4b1d-9be5-26ad43103d6f",
   "metadata": {},
   "outputs": [
    {
     "data": {
      "text/plain": [
       "4"
      ]
     },
     "execution_count": 28,
     "metadata": {},
     "output_type": "execute_result"
    }
   ],
   "source": [
    "len(players_dicts)"
   ]
  },
  {
   "cell_type": "code",
   "execution_count": 29,
   "id": "40bbeba1-c0a0-4698-a5b6-db1124432e4b",
   "metadata": {},
   "outputs": [],
   "source": [
    "with open('players.json', 'r', encoding='utf-8') as file:\n",
    "    data = json.loads(file.read())"
   ]
  },
  {
   "cell_type": "code",
   "execution_count": 30,
   "id": "96fa8a2c-ccd4-4e8c-ada4-c85bd2777a31",
   "metadata": {},
   "outputs": [],
   "source": [
    "all_list_data = []\n",
    "for data_ in data:\n",
    "    all_list_data.append(data_['rows'])\n",
    "# all_list_data"
   ]
  },
  {
   "cell_type": "code",
   "execution_count": 31,
   "id": "270fbdef-e5f5-41a4-8976-080ec25d3e8f",
   "metadata": {},
   "outputs": [
    {
     "data": {
      "text/plain": [
       "40000"
      ]
     },
     "execution_count": 31,
     "metadata": {},
     "output_type": "execute_result"
    }
   ],
   "source": [
    "flat_list = [item for sublist in all_list_data for item in sublist]\n",
    "len(flat_list)"
   ]
  },
  {
   "cell_type": "code",
   "execution_count": null,
   "id": "bceb715d-3d4f-4838-b31c-66404da1a3cf",
   "metadata": {},
   "outputs": [],
   "source": []
  }
 ],
 "metadata": {
  "kernelspec": {
   "display_name": "Python 3",
   "language": "python",
   "name": "python3"
  },
  "language_info": {
   "codemirror_mode": {
    "name": "ipython",
    "version": 3
   },
   "file_extension": ".py",
   "mimetype": "text/x-python",
   "name": "python",
   "nbconvert_exporter": "python",
   "pygments_lexer": "ipython3",
   "version": "3.8.8"
  }
 },
 "nbformat": 4,
 "nbformat_minor": 5
}
