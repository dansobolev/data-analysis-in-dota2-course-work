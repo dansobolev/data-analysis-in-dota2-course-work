{
 "cells": [
  {
   "cell_type": "code",
   "execution_count": 1,
   "id": "7c0fe6fc-b503-4de6-a7e0-254d118f446c",
   "metadata": {},
   "outputs": [],
   "source": [
    "import requests"
   ]
  },
  {
   "cell_type": "code",
   "execution_count": 3,
   "id": "10b31421-e01c-4847-af78-cc2cb56899de",
   "metadata": {},
   "outputs": [],
   "source": [
    "# get items\n",
    "items = requests.get(\"https://api.opendota.com/api/constants/items\")\n",
    "if items.status_code == 200:\n",
    "    with open('items.json', 'w', encoding='utf-8') as writer:\n",
    "        writer.write(items.text)"
   ]
  },
  {
   "cell_type": "code",
   "execution_count": null,
   "id": "f2e39ebf-288c-4d81-9727-e84fe0c122d4",
   "metadata": {},
   "outputs": [],
   "source": []
  },
  {
   "cell_type": "code",
   "execution_count": null,
   "id": "6506d2e3-4471-4541-9b0d-a856c4bf70e7",
   "metadata": {},
   "outputs": [],
   "source": []
  }
 ],
 "metadata": {
  "kernelspec": {
   "display_name": "Python 3",
   "language": "python",
   "name": "python3"
  },
  "language_info": {
   "codemirror_mode": {
    "name": "ipython",
    "version": 3
   },
   "file_extension": ".py",
   "mimetype": "text/x-python",
   "name": "python",
   "nbconvert_exporter": "python",
   "pygments_lexer": "ipython3",
   "version": "3.8.8"
  }
 },
 "nbformat": 4,
 "nbformat_minor": 5
}
