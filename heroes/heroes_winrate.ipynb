{
 "cells": [
  {
   "cell_type": "code",
   "execution_count": 72,
   "id": "a0ee42a2-55a1-42fb-88b5-8817e064c590",
   "metadata": {},
   "outputs": [],
   "source": [
    "import requests\n",
    "import pandas as pd\n",
    "import numpy as np"
   ]
  },
  {
   "cell_type": "code",
   "execution_count": 142,
   "id": "d5283634-c5d7-4880-80a6-bfd0be91178c",
   "metadata": {},
   "outputs": [],
   "source": [
    "resp_heroes_stats = requests.get(f'https://api.opendota.com/api/heroStats').json()"
   ]
  },
  {
   "cell_type": "markdown",
   "id": "687fc733-4b0e-4009-acb1-26a7d9ae3066",
   "metadata": {},
   "source": [
    "<h2>Making stats for one hero (anti-mage)"
   ]
  },
  {
   "cell_type": "markdown",
   "id": "f7d73e3e-578c-4fca-9498-3164328a6d49",
   "metadata": {},
   "source": [
    "Required columns (stats for players which rank is at least Legend\n",
    "- hero_id\n",
    "- name\n",
    "- roles\n",
    "- 5_pick\n",
    "- 5_win\n",
    "- 6_pick\n",
    "- 6_win\n",
    "- 7_pick\n",
    "- 7_win\n",
    "- 8_pick\n",
    "- 8_win"
   ]
  },
  {
   "cell_type": "code",
   "execution_count": 68,
   "id": "b0d735f5-e540-41e4-ac08-adb6af8e6c0a",
   "metadata": {},
   "outputs": [],
   "source": [
    "columns = ['hero_id', 'name', 'roles', '5_pick', '5_win', '6_pick', '6_win', '7_pick', '7_win', '8_pick', '8_win']"
   ]
  },
  {
   "cell_type": "code",
   "execution_count": 65,
   "id": "6c171332-09fd-4cd7-b578-8d9138f252e8",
   "metadata": {},
   "outputs": [
    {
     "data": {
      "text/plain": [
       "'Carry-Escape-Nuker'"
      ]
     },
     "execution_count": 65,
     "metadata": {},
     "output_type": "execute_result"
    }
   ],
   "source": [
    "resp_heroes_stats[0]['roles'] = '-'.join(resp_heroes_stats[0]['roles'])\n",
    "resp_heroes_stats[0]['roles']"
   ]
  },
  {
   "cell_type": "code",
   "execution_count": 69,
   "id": "77ef759a-8f27-4f73-8132-5b02e225850c",
   "metadata": {},
   "outputs": [
    {
     "data": {
      "text/html": [
       "<div>\n",
       "<style scoped>\n",
       "    .dataframe tbody tr th:only-of-type {\n",
       "        vertical-align: middle;\n",
       "    }\n",
       "\n",
       "    .dataframe tbody tr th {\n",
       "        vertical-align: top;\n",
       "    }\n",
       "\n",
       "    .dataframe thead th {\n",
       "        text-align: right;\n",
       "    }\n",
       "</style>\n",
       "<table border=\"1\" class=\"dataframe\">\n",
       "  <thead>\n",
       "    <tr style=\"text-align: right;\">\n",
       "      <th></th>\n",
       "      <th>name</th>\n",
       "      <th>roles</th>\n",
       "      <th>5_pick</th>\n",
       "      <th>5_win</th>\n",
       "      <th>6_pick</th>\n",
       "      <th>6_win</th>\n",
       "      <th>7_pick</th>\n",
       "      <th>7_win</th>\n",
       "      <th>8_pick</th>\n",
       "      <th>8_win</th>\n",
       "    </tr>\n",
       "    <tr>\n",
       "      <th>hero_id</th>\n",
       "      <th></th>\n",
       "      <th></th>\n",
       "      <th></th>\n",
       "      <th></th>\n",
       "      <th></th>\n",
       "      <th></th>\n",
       "      <th></th>\n",
       "      <th></th>\n",
       "      <th></th>\n",
       "      <th></th>\n",
       "    </tr>\n",
       "  </thead>\n",
       "  <tbody>\n",
       "    <tr>\n",
       "      <th>1</th>\n",
       "      <td>npc_dota_hero_antimage</td>\n",
       "      <td>Carry-Escape-Nuker</td>\n",
       "      <td>24369</td>\n",
       "      <td>12382</td>\n",
       "      <td>10390</td>\n",
       "      <td>5364</td>\n",
       "      <td>4335</td>\n",
       "      <td>2198</td>\n",
       "      <td>1180</td>\n",
       "      <td>597</td>\n",
       "    </tr>\n",
       "  </tbody>\n",
       "</table>\n",
       "</div>"
      ],
      "text/plain": [
       "                           name               roles  5_pick  5_win  6_pick  \\\n",
       "hero_id                                                                      \n",
       "1        npc_dota_hero_antimage  Carry-Escape-Nuker   24369  12382   10390   \n",
       "\n",
       "         6_win  7_pick  7_win  8_pick  8_win  \n",
       "hero_id                                       \n",
       "1         5364    4335   2198    1180    597  "
      ]
     },
     "execution_count": 69,
     "metadata": {},
     "output_type": "execute_result"
    }
   ],
   "source": [
    "dataframe = pd.DataFrame([resp_heroes_stats[0]], columns=columns).set_index('hero_id')\n",
    "dataframe.head()"
   ]
  },
  {
   "cell_type": "code",
   "execution_count": 79,
   "id": "e15e0ba5-7fec-438e-b5f5-3fe747e62254",
   "metadata": {},
   "outputs": [
    {
     "data": {
      "text/plain": [
       "array(['5_pick', '5_win', '6_pick', '6_win', '7_pick', '7_win', '8_pick',\n",
       "       '8_win'], dtype='<U6')"
      ]
     },
     "execution_count": 79,
     "metadata": {},
     "output_type": "execute_result"
    }
   ],
   "source": [
    "winrate_columns = columns[3:]\n",
    "np.partition(winrate_columns, (2, 2))"
   ]
  },
  {
   "cell_type": "code",
   "execution_count": 80,
   "id": "ffb627b4-6bb4-485f-8af9-48f8a3d2714f",
   "metadata": {},
   "outputs": [],
   "source": [
    "for column in winrate_columns:\n",
    "    if column.endswith('pick'):\n",
    "        column_pick = dataframe[column]\n",
    "        column_win = dataframe[column.split('_')[0]+'_win']\n",
    "        winrate = column_win / column_pick\n",
    "        dataframe[column.split('_')[0]+'_winrate'] = winrate"
   ]
  },
  {
   "cell_type": "code",
   "execution_count": 81,
   "id": "8f1b1d54-f52e-4033-9bc5-d2904a728971",
   "metadata": {},
   "outputs": [
    {
     "data": {
      "text/html": [
       "<div>\n",
       "<style scoped>\n",
       "    .dataframe tbody tr th:only-of-type {\n",
       "        vertical-align: middle;\n",
       "    }\n",
       "\n",
       "    .dataframe tbody tr th {\n",
       "        vertical-align: top;\n",
       "    }\n",
       "\n",
       "    .dataframe thead th {\n",
       "        text-align: right;\n",
       "    }\n",
       "</style>\n",
       "<table border=\"1\" class=\"dataframe\">\n",
       "  <thead>\n",
       "    <tr style=\"text-align: right;\">\n",
       "      <th></th>\n",
       "      <th>name</th>\n",
       "      <th>roles</th>\n",
       "      <th>5_pick</th>\n",
       "      <th>5_win</th>\n",
       "      <th>6_pick</th>\n",
       "      <th>6_win</th>\n",
       "      <th>7_pick</th>\n",
       "      <th>7_win</th>\n",
       "      <th>8_pick</th>\n",
       "      <th>8_win</th>\n",
       "      <th>5_winrate</th>\n",
       "      <th>6_winrate</th>\n",
       "      <th>7_winrate</th>\n",
       "      <th>8_winrate</th>\n",
       "    </tr>\n",
       "    <tr>\n",
       "      <th>hero_id</th>\n",
       "      <th></th>\n",
       "      <th></th>\n",
       "      <th></th>\n",
       "      <th></th>\n",
       "      <th></th>\n",
       "      <th></th>\n",
       "      <th></th>\n",
       "      <th></th>\n",
       "      <th></th>\n",
       "      <th></th>\n",
       "      <th></th>\n",
       "      <th></th>\n",
       "      <th></th>\n",
       "      <th></th>\n",
       "    </tr>\n",
       "  </thead>\n",
       "  <tbody>\n",
       "    <tr>\n",
       "      <th>1</th>\n",
       "      <td>npc_dota_hero_antimage</td>\n",
       "      <td>Carry-Escape-Nuker</td>\n",
       "      <td>24369</td>\n",
       "      <td>12382</td>\n",
       "      <td>10390</td>\n",
       "      <td>5364</td>\n",
       "      <td>4335</td>\n",
       "      <td>2198</td>\n",
       "      <td>1180</td>\n",
       "      <td>597</td>\n",
       "      <td>0.508105</td>\n",
       "      <td>0.516266</td>\n",
       "      <td>0.507036</td>\n",
       "      <td>0.505932</td>\n",
       "    </tr>\n",
       "  </tbody>\n",
       "</table>\n",
       "</div>"
      ],
      "text/plain": [
       "                           name               roles  5_pick  5_win  6_pick  \\\n",
       "hero_id                                                                      \n",
       "1        npc_dota_hero_antimage  Carry-Escape-Nuker   24369  12382   10390   \n",
       "\n",
       "         6_win  7_pick  7_win  8_pick  8_win  5_winrate  6_winrate  7_winrate  \\\n",
       "hero_id                                                                         \n",
       "1         5364    4335   2198    1180    597   0.508105   0.516266   0.507036   \n",
       "\n",
       "         8_winrate  \n",
       "hero_id             \n",
       "1         0.505932  "
      ]
     },
     "execution_count": 81,
     "metadata": {},
     "output_type": "execute_result"
    }
   ],
   "source": [
    "dataframe"
   ]
  },
  {
   "cell_type": "code",
   "execution_count": null,
   "id": "0bbb78cc-8d93-4038-a933-0a09aa431c42",
   "metadata": {},
   "outputs": [],
   "source": []
  },
  {
   "cell_type": "markdown",
   "id": "46f9ae35-f96e-475a-b691-5457f1fd7472",
   "metadata": {},
   "source": [
    "<h2>Make winrate stats for all Dota 2 heroes"
   ]
  },
  {
   "cell_type": "code",
   "execution_count": 143,
   "id": "92d1c1f0-e0fd-428e-a6a9-feb7f95d93b6",
   "metadata": {},
   "outputs": [],
   "source": [
    "columns = ['hero_id', 'name', 'roles', '5_pick', '5_win', '6_pick', '6_win', '7_pick', '7_win', '8_pick', '8_win']\n",
    "winrate_columns = columns[3:]\n",
    "\n",
    "common_dataframe = pd.DataFrame()\n",
    "for hero in resp_heroes_stats:\n",
    "    hero_ = hero.copy()\n",
    "    hero_['roles'] = '-'.join(hero_['roles'])\n",
    "    dataframe = pd.DataFrame([hero_], columns=columns).set_index('hero_id')\n",
    "    for column in winrate_columns:\n",
    "        if column.endswith('pick'):\n",
    "            column_pick = dataframe[column]\n",
    "            column_win = dataframe[column.split('_')[0]+'_win']\n",
    "            winrate = column_win / column_pick\n",
    "            dataframe[column.split('_')[0]+'_winrate'] = winrate\n",
    "    common_dataframe = common_dataframe.append(dataframe)"
   ]
  },
  {
   "cell_type": "code",
   "execution_count": 146,
   "id": "50a45310-8131-47b7-bb8c-0109f1fc0115",
   "metadata": {},
   "outputs": [],
   "source": [
    "# mean values for all rows\n",
    "common_dataframe['mean_winrate'] = common_dataframe[['5_winrate', '6_winrate', '7_winrate', '8_winrate']].mean(axis=1)"
   ]
  },
  {
   "cell_type": "code",
   "execution_count": 147,
   "id": "8e889315-0754-4c5d-82c6-1c0bffc9a6b6",
   "metadata": {},
   "outputs": [
    {
     "data": {
      "text/html": [
       "<div>\n",
       "<style scoped>\n",
       "    .dataframe tbody tr th:only-of-type {\n",
       "        vertical-align: middle;\n",
       "    }\n",
       "\n",
       "    .dataframe tbody tr th {\n",
       "        vertical-align: top;\n",
       "    }\n",
       "\n",
       "    .dataframe thead th {\n",
       "        text-align: right;\n",
       "    }\n",
       "</style>\n",
       "<table border=\"1\" class=\"dataframe\">\n",
       "  <thead>\n",
       "    <tr style=\"text-align: right;\">\n",
       "      <th></th>\n",
       "      <th>name</th>\n",
       "      <th>roles</th>\n",
       "      <th>5_pick</th>\n",
       "      <th>5_win</th>\n",
       "      <th>6_pick</th>\n",
       "      <th>6_win</th>\n",
       "      <th>7_pick</th>\n",
       "      <th>7_win</th>\n",
       "      <th>8_pick</th>\n",
       "      <th>8_win</th>\n",
       "      <th>5_winrate</th>\n",
       "      <th>6_winrate</th>\n",
       "      <th>7_winrate</th>\n",
       "      <th>8_winrate</th>\n",
       "      <th>mean_winrate</th>\n",
       "    </tr>\n",
       "    <tr>\n",
       "      <th>hero_id</th>\n",
       "      <th></th>\n",
       "      <th></th>\n",
       "      <th></th>\n",
       "      <th></th>\n",
       "      <th></th>\n",
       "      <th></th>\n",
       "      <th></th>\n",
       "      <th></th>\n",
       "      <th></th>\n",
       "      <th></th>\n",
       "      <th></th>\n",
       "      <th></th>\n",
       "      <th></th>\n",
       "      <th></th>\n",
       "      <th></th>\n",
       "    </tr>\n",
       "  </thead>\n",
       "  <tbody>\n",
       "    <tr>\n",
       "      <th>1</th>\n",
       "      <td>npc_dota_hero_antimage</td>\n",
       "      <td>Carry-Escape-Nuker</td>\n",
       "      <td>24524</td>\n",
       "      <td>12479</td>\n",
       "      <td>10418</td>\n",
       "      <td>5317</td>\n",
       "      <td>4297</td>\n",
       "      <td>2152</td>\n",
       "      <td>1189</td>\n",
       "      <td>615</td>\n",
       "      <td>0.508848</td>\n",
       "      <td>0.510367</td>\n",
       "      <td>0.500815</td>\n",
       "      <td>0.517241</td>\n",
       "      <td>0.509318</td>\n",
       "    </tr>\n",
       "    <tr>\n",
       "      <th>2</th>\n",
       "      <td>npc_dota_hero_axe</td>\n",
       "      <td>Initiator-Durable-Disabler-Jungler-Carry</td>\n",
       "      <td>18891</td>\n",
       "      <td>9372</td>\n",
       "      <td>7354</td>\n",
       "      <td>3612</td>\n",
       "      <td>2679</td>\n",
       "      <td>1286</td>\n",
       "      <td>541</td>\n",
       "      <td>237</td>\n",
       "      <td>0.496109</td>\n",
       "      <td>0.491161</td>\n",
       "      <td>0.480030</td>\n",
       "      <td>0.438078</td>\n",
       "      <td>0.476345</td>\n",
       "    </tr>\n",
       "    <tr>\n",
       "      <th>3</th>\n",
       "      <td>npc_dota_hero_bane</td>\n",
       "      <td>Support-Disabler-Nuker-Durable</td>\n",
       "      <td>19306</td>\n",
       "      <td>10150</td>\n",
       "      <td>10446</td>\n",
       "      <td>5665</td>\n",
       "      <td>5827</td>\n",
       "      <td>3129</td>\n",
       "      <td>2979</td>\n",
       "      <td>1605</td>\n",
       "      <td>0.525743</td>\n",
       "      <td>0.542313</td>\n",
       "      <td>0.536983</td>\n",
       "      <td>0.538771</td>\n",
       "      <td>0.535953</td>\n",
       "    </tr>\n",
       "    <tr>\n",
       "      <th>4</th>\n",
       "      <td>npc_dota_hero_bloodseeker</td>\n",
       "      <td>Carry-Disabler-Jungler-Nuker-Initiator</td>\n",
       "      <td>9434</td>\n",
       "      <td>4741</td>\n",
       "      <td>4289</td>\n",
       "      <td>2169</td>\n",
       "      <td>1882</td>\n",
       "      <td>907</td>\n",
       "      <td>780</td>\n",
       "      <td>386</td>\n",
       "      <td>0.502544</td>\n",
       "      <td>0.505712</td>\n",
       "      <td>0.481934</td>\n",
       "      <td>0.494872</td>\n",
       "      <td>0.496266</td>\n",
       "    </tr>\n",
       "    <tr>\n",
       "      <th>5</th>\n",
       "      <td>npc_dota_hero_crystal_maiden</td>\n",
       "      <td>Support-Disabler-Nuker-Jungler</td>\n",
       "      <td>19206</td>\n",
       "      <td>9438</td>\n",
       "      <td>7919</td>\n",
       "      <td>3885</td>\n",
       "      <td>2835</td>\n",
       "      <td>1350</td>\n",
       "      <td>817</td>\n",
       "      <td>377</td>\n",
       "      <td>0.491409</td>\n",
       "      <td>0.490592</td>\n",
       "      <td>0.476190</td>\n",
       "      <td>0.461444</td>\n",
       "      <td>0.479909</td>\n",
       "    </tr>\n",
       "  </tbody>\n",
       "</table>\n",
       "</div>"
      ],
      "text/plain": [
       "                                 name  \\\n",
       "hero_id                                 \n",
       "1              npc_dota_hero_antimage   \n",
       "2                   npc_dota_hero_axe   \n",
       "3                  npc_dota_hero_bane   \n",
       "4           npc_dota_hero_bloodseeker   \n",
       "5        npc_dota_hero_crystal_maiden   \n",
       "\n",
       "                                            roles  5_pick  5_win  6_pick  \\\n",
       "hero_id                                                                    \n",
       "1                              Carry-Escape-Nuker   24524  12479   10418   \n",
       "2        Initiator-Durable-Disabler-Jungler-Carry   18891   9372    7354   \n",
       "3                  Support-Disabler-Nuker-Durable   19306  10150   10446   \n",
       "4          Carry-Disabler-Jungler-Nuker-Initiator    9434   4741    4289   \n",
       "5                  Support-Disabler-Nuker-Jungler   19206   9438    7919   \n",
       "\n",
       "         6_win  7_pick  7_win  8_pick  8_win  5_winrate  6_winrate  7_winrate  \\\n",
       "hero_id                                                                         \n",
       "1         5317    4297   2152    1189    615   0.508848   0.510367   0.500815   \n",
       "2         3612    2679   1286     541    237   0.496109   0.491161   0.480030   \n",
       "3         5665    5827   3129    2979   1605   0.525743   0.542313   0.536983   \n",
       "4         2169    1882    907     780    386   0.502544   0.505712   0.481934   \n",
       "5         3885    2835   1350     817    377   0.491409   0.490592   0.476190   \n",
       "\n",
       "         8_winrate  mean_winrate  \n",
       "hero_id                           \n",
       "1         0.517241      0.509318  \n",
       "2         0.438078      0.476345  \n",
       "3         0.538771      0.535953  \n",
       "4         0.494872      0.496266  \n",
       "5         0.461444      0.479909  "
      ]
     },
     "execution_count": 147,
     "metadata": {},
     "output_type": "execute_result"
    }
   ],
   "source": [
    "common_dataframe.head()"
   ]
  },
  {
   "cell_type": "code",
   "execution_count": 148,
   "id": "7bee8fe8-21be-4f09-be8c-c56ebbae1e57",
   "metadata": {},
   "outputs": [],
   "source": [
    "common_dataframe.to_csv('heroes_winrate.csv')"
   ]
  },
  {
   "cell_type": "code",
   "execution_count": null,
   "id": "6d5c4036-9bfd-4586-a879-bc514942cea1",
   "metadata": {},
   "outputs": [],
   "source": []
  }
 ],
 "metadata": {
  "kernelspec": {
   "display_name": "Python 3",
   "language": "python",
   "name": "python3"
  },
  "language_info": {
   "codemirror_mode": {
    "name": "ipython",
    "version": 3
   },
   "file_extension": ".py",
   "mimetype": "text/x-python",
   "name": "python",
   "nbconvert_exporter": "python",
   "pygments_lexer": "ipython3",
   "version": "3.8.8"
  }
 },
 "nbformat": 4,
 "nbformat_minor": 5
}
