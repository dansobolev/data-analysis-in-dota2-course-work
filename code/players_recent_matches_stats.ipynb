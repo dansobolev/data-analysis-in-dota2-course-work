{
 "cells": [
  {
   "cell_type": "code",
   "execution_count": 4,
   "id": "923a6a4c-d1c0-4af4-b0ef-5503d231b145",
   "metadata": {},
   "outputs": [],
   "source": [
    "import json\n",
    "\n",
    "import requests\n",
    "import pandas as pd\n",
    "import numpy as np"
   ]
  },
  {
   "cell_type": "markdown",
   "id": "cb61134e-25b2-4032-8a42-9a2a0e70bf27",
   "metadata": {},
   "source": [
    "<h2>Статистика игроков за последние 20 матчей (для каждого)"
   ]
  },
  {
   "cell_type": "markdown",
   "id": "e344db35-4dd3-46a0-9a17-58bac35cf756",
   "metadata": {},
   "source": [
    "Для примера возьмем команды, которые участвовали на TI 10:\n",
    "- PSG.LGD \n",
    "- Virtus Pro\n",
    "- Team Spirit\n",
    "- INVICTUS GAMING\n",
    "- T1\n",
    "- Team Secret\n",
    "- Vici Gaming\n",
    "- Evil Geniuses\n",
    "- Undying\n",
    "- OG\n",
    "- Thunder Predator\n",
    "- Team Aster"
   ]
  },
  {
   "cell_type": "code",
   "execution_count": 1,
   "id": "f8f2c660-17ca-4bf9-949e-7bf23ab4e5d2",
   "metadata": {},
   "outputs": [],
   "source": [
    "import requests"
   ]
  },
  {
   "cell_type": "code",
   "execution_count": 7,
   "id": "921ae987-be7c-4f69-8e4b-01341374aa33",
   "metadata": {},
   "outputs": [],
   "source": [
    "get_teams = requests.get('https://api.opendota.com/api/teams')"
   ]
  },
  {
   "cell_type": "code",
   "execution_count": 17,
   "id": "c435324d-d26f-4a68-a7ea-8edf85bfc883",
   "metadata": {},
   "outputs": [],
   "source": [
    "teams_names = ['PSG.LGD', 'Virtus.pro', 'Team Spirit', 'INVICTUS GAMING', 'T1', 'Team Secret', \n",
    "               'Vici Gaming', 'Evil Geniuses', 'Undying', 'OG', 'Thunder Predator', 'Team Aster']"
   ]
  },
  {
   "cell_type": "code",
   "execution_count": 18,
   "id": "1b3089fa-4516-4174-9802-76c2ad0976fc",
   "metadata": {},
   "outputs": [],
   "source": [
    "teams_ids = {team['name']: team['team_id'] for team in get_teams.json() if team['name'] in teams_names}"
   ]
  },
  {
   "cell_type": "code",
   "execution_count": 20,
   "id": "303ee9f8-4384-4d14-bca9-1a9604d2836a",
   "metadata": {},
   "outputs": [
    {
     "data": {
      "text/plain": [
       "{'PSG.LGD': 7566630,\n",
       " 'Team Spirit': 7119388,\n",
       " 'Virtus.pro': 8195818,\n",
       " 'INVICTUS GAMING': 5,\n",
       " 'T1': 7424172,\n",
       " 'Team Secret': 1838315,\n",
       " 'Vici Gaming': 726228,\n",
       " 'Evil Geniuses': 39,\n",
       " 'Undying': 8260983,\n",
       " 'OG': 2586976,\n",
       " 'Thunder Predator': 7298211,\n",
       " 'Team Aster': 6209166}"
      ]
     },
     "execution_count": 20,
     "metadata": {},
     "output_type": "execute_result"
    }
   ],
   "source": [
    "teams_ids"
   ]
  },
  {
   "cell_type": "code",
   "execution_count": 2,
   "id": "66b2ecbd-be8a-4bd5-bf6c-79a96b06f507",
   "metadata": {},
   "outputs": [
    {
     "name": "stdout",
     "output_type": "stream",
     "text": [
      "Successfully download data\n"
     ]
    }
   ],
   "source": [
    "pro_players = requests.get('https://api.opendota.com/api/proPlayers')\n",
    "if pro_players.status_code == 200:\n",
    "    print(\"Successfully download data\")\n",
    "else:\n",
    "    print(\"Something wrong, repeat\")"
   ]
  },
  {
   "cell_type": "code",
   "execution_count": 31,
   "id": "428ec0e3-b4bc-4d0f-87f6-89d45797fb9a",
   "metadata": {},
   "outputs": [],
   "source": [
    "team_players = requests.get('https://api.opendota.com/api/teams/7119388/players')"
   ]
  },
  {
   "cell_type": "code",
   "execution_count": 32,
   "id": "494f523a-07d0-413b-ba4d-30fed2313adc",
   "metadata": {},
   "outputs": [
    {
     "data": {
      "text/plain": [
       "200"
      ]
     },
     "execution_count": 32,
     "metadata": {},
     "output_type": "execute_result"
    }
   ],
   "source": [
    "team_players.status_code"
   ]
  },
  {
   "cell_type": "code",
   "execution_count": 33,
   "id": "c1cae7cf-6c60-4351-8fba-51a8030aea35",
   "metadata": {},
   "outputs": [
    {
     "data": {
      "text/plain": [
       "[{'account_id': 302214028,\n",
       "  'name': 'CoLLapse',\n",
       "  'games_played': 196,\n",
       "  'wins': 129,\n",
       "  'is_current_team_member': True},\n",
       " {'account_id': 113331514,\n",
       "  'name': 'Miposhka',\n",
       "  'games_played': 196,\n",
       "  'wins': 129,\n",
       "  'is_current_team_member': True},\n",
       " {'account_id': 321580662,\n",
       "  'name': 'YATOROGOD',\n",
       "  'games_played': 196,\n",
       "  'wins': 129,\n",
       "  'is_current_team_member': True},\n",
       " {'account_id': 431770905,\n",
       "  'name': 'TORONTOTOKYO',\n",
       "  'games_played': 196,\n",
       "  'wins': 129,\n",
       "  'is_current_team_member': True},\n",
       " {'account_id': 256156323,\n",
       "  'name': 'Kolpakov',\n",
       "  'games_played': 179,\n",
       "  'wins': 119,\n",
       "  'is_current_team_member': False},\n",
       " {'account_id': 90125566,\n",
       "  'name': 'Misha',\n",
       "  'games_played': 148,\n",
       "  'wins': 62,\n",
       "  'is_current_team_member': False},\n",
       " {'account_id': 295697470,\n",
       "  'name': 'Immersion',\n",
       "  'games_played': 140,\n",
       "  'wins': 60,\n",
       "  'is_current_team_member': False},\n",
       " {'account_id': 876110702,\n",
       "  'name': 'Ergon',\n",
       "  'games_played': 138,\n",
       "  'wins': 58,\n",
       "  'is_current_team_member': False},\n",
       " {'account_id': 113995822,\n",
       "  'name': 'iLTW',\n",
       "  'games_played': 78,\n",
       "  'wins': 33,\n",
       "  'is_current_team_member': False},\n",
       " {'account_id': 116934015,\n",
       "  'name': 'dyrachyo',\n",
       "  'games_played': 70,\n",
       "  'wins': 29,\n",
       "  'is_current_team_member': False},\n",
       " {'account_id': 86785083,\n",
       "  'name': 'AfterLife',\n",
       "  'games_played': 59,\n",
       "  'wins': 26,\n",
       "  'is_current_team_member': False},\n",
       " {'account_id': 92847434,\n",
       "  'name': 'Ghostik',\n",
       "  'games_played': 48,\n",
       "  'wins': 23,\n",
       "  'is_current_team_member': False},\n",
       " {'account_id': 130801103,\n",
       "  'name': 'nongrata`',\n",
       "  'games_played': 32,\n",
       "  'wins': 11,\n",
       "  'is_current_team_member': False},\n",
       " {'account_id': 96196828,\n",
       "  'name': '633',\n",
       "  'games_played': 19,\n",
       "  'wins': 4,\n",
       "  'is_current_team_member': False},\n",
       " {'account_id': 11550182,\n",
       "  'name': 'VANSKOR',\n",
       "  'games_played': 19,\n",
       "  'wins': 4,\n",
       "  'is_current_team_member': False},\n",
       " {'account_id': 82305765,\n",
       "  'name': 'velheor',\n",
       "  'games_played': 19,\n",
       "  'wins': 4,\n",
       "  'is_current_team_member': False},\n",
       " {'account_id': 87586992,\n",
       "  'name': 'G',\n",
       "  'games_played': 19,\n",
       "  'wins': 4,\n",
       "  'is_current_team_member': False},\n",
       " {'account_id': 26316691,\n",
       "  'name': 'IllidanSTR',\n",
       "  'games_played': 19,\n",
       "  'wins': 4,\n",
       "  'is_current_team_member': False},\n",
       " {'account_id': 107023378,\n",
       "  'name': 'so bad',\n",
       "  'games_played': 17,\n",
       "  'wins': 10,\n",
       "  'is_current_team_member': False},\n",
       " {'account_id': 480412663,\n",
       "  'name': 'gpk~',\n",
       "  'games_played': 10,\n",
       "  'wins': 4,\n",
       "  'is_current_team_member': False},\n",
       " {'account_id': 203351055,\n",
       "  'name': 'Malik',\n",
       "  'games_played': 8,\n",
       "  'wins': 2,\n",
       "  'is_current_team_member': False},\n",
       " {'account_id': 9403474,\n",
       "  'name': 'yamich',\n",
       "  'games_played': 8,\n",
       "  'wins': 2,\n",
       "  'is_current_team_member': False},\n",
       " {'account_id': 5150808,\n",
       "  'name': 'fn`',\n",
       "  'games_played': 1,\n",
       "  'wins': 0,\n",
       "  'is_current_team_member': False}]"
      ]
     },
     "execution_count": 33,
     "metadata": {},
     "output_type": "execute_result"
    }
   ],
   "source": [
    "team_players.json()"
   ]
  },
  {
   "cell_type": "code",
   "execution_count": null,
   "id": "e20a7d44-de77-4d74-8092-1416d471292c",
   "metadata": {},
   "outputs": [],
   "source": []
  },
  {
   "cell_type": "markdown",
   "id": "3b46ecaf-c712-44ea-a715-94dfc3372810",
   "metadata": {},
   "source": [
    "<h3>Parse json file with player matches data"
   ]
  },
  {
   "cell_type": "code",
   "execution_count": 76,
   "id": "75fdc4a5-c351-47d0-9e76-e3c8c4bd7d9a",
   "metadata": {},
   "outputs": [],
   "source": [
    "def process_players_stats(file_name: str):\n",
    "    with open(file_name, 'r', encoding='utf-8') as file:\n",
    "        players_recent_matches = json.loads(file.read())\n",
    "    players_recent_matches_processed = {player_id: {} for player_id in [list(match.keys())[0] for match in players_recent_matches] }\n",
    "    for match_data_ in players_recent_matches:\n",
    "        players_matches = []\n",
    "        for player_id, match_data in match_data_.items():\n",
    "            for player_match in match_data['rows']:\n",
    "                players_matches.append(player_match)\n",
    "            players_recent_matches_processed[player_id] = players_matches\n",
    "    return players_recent_matches_processed"
   ]
  },
  {
   "cell_type": "code",
   "execution_count": 77,
   "id": "f8bbcc5f-b378-4519-b319-ea2e49d16e39",
   "metadata": {},
   "outputs": [],
   "source": [
    "players_recent_matches = process_players_stats('player_stat_per_match/player_stats.json')"
   ]
  },
  {
   "cell_type": "markdown",
   "id": "12d11cb3-0ee6-4736-b449-41ea899e1412",
   "metadata": {},
   "source": [
    "<h4>How many players in file"
   ]
  },
  {
   "cell_type": "code",
   "execution_count": 78,
   "id": "35a2b9d5-4786-4e03-af8b-6a2c3a1f8328",
   "metadata": {},
   "outputs": [
    {
     "data": {
      "text/plain": [
       "3"
      ]
     },
     "execution_count": 78,
     "metadata": {},
     "output_type": "execute_result"
    }
   ],
   "source": [
    "len(players_recent_matches)"
   ]
  },
  {
   "cell_type": "markdown",
   "id": "0af9a0eb-2691-4e1c-8c42-9447d8fb1dbb",
   "metadata": {},
   "source": [
    "<h4>Check for match uniqueness"
   ]
  },
  {
   "cell_type": "code",
   "execution_count": 80,
   "id": "124304bf-4e5f-4f55-aab8-ce496427c837",
   "metadata": {},
   "outputs": [
    {
     "data": {
      "text/plain": [
       "True"
      ]
     },
     "execution_count": 80,
     "metadata": {},
     "output_type": "execute_result"
    }
   ],
   "source": [
    "len(set([match['match_id'] for match in players_recent_matches['302214028']])) == 100"
   ]
  },
  {
   "cell_type": "code",
   "execution_count": 84,
   "id": "5dc5c510-e235-474f-8b9a-3d80d0aed991",
   "metadata": {},
   "outputs": [
    {
     "data": {
      "text/plain": [
       "True"
      ]
     },
     "execution_count": 84,
     "metadata": {},
     "output_type": "execute_result"
    }
   ],
   "source": [
    "len(set([match['match_id'] for match in players_recent_matches['113331514']])) == 100"
   ]
  },
  {
   "cell_type": "code",
   "execution_count": 85,
   "id": "2b7a6c8d-68fb-45c5-beb4-bb5bd15f31a6",
   "metadata": {},
   "outputs": [
    {
     "data": {
      "text/plain": [
       "True"
      ]
     },
     "execution_count": 85,
     "metadata": {},
     "output_type": "execute_result"
    }
   ],
   "source": [
    "len(set([match['match_id'] for match in players_recent_matches['321580662']])) == 100"
   ]
  },
  {
   "cell_type": "code",
   "execution_count": 88,
   "id": "016bf146-11bd-47a7-9f25-af41fc7d3a97",
   "metadata": {},
   "outputs": [
    {
     "data": {
      "text/plain": [
       "[5940129114,\n",
       " 5940316763,\n",
       " 5941689002,\n",
       " 5941839115,\n",
       " 5942003094,\n",
       " 5942402971,\n",
       " 5942484798,\n",
       " 5948347704,\n",
       " 5948486847,\n",
       " 5952853218]"
      ]
     },
     "execution_count": 88,
     "metadata": {},
     "output_type": "execute_result"
    }
   ],
   "source": [
    "[match['match_id'] for match in players_recent_matches['302214028']][:10]"
   ]
  },
  {
   "cell_type": "code",
   "execution_count": 89,
   "id": "9673e4a7-9da7-4bcc-a5a2-2967038c5f59",
   "metadata": {},
   "outputs": [
    {
     "data": {
      "text/plain": [
       "[5940129114,\n",
       " 5940316763,\n",
       " 5941689002,\n",
       " 5941839115,\n",
       " 5942003094,\n",
       " 5942402971,\n",
       " 5942484798,\n",
       " 5948347704,\n",
       " 5948486847,\n",
       " 5952853218]"
      ]
     },
     "execution_count": 89,
     "metadata": {},
     "output_type": "execute_result"
    }
   ],
   "source": [
    "[match['match_id'] for match in players_recent_matches['321580662']][:10]"
   ]
  },
  {
   "cell_type": "code",
   "execution_count": null,
   "id": "a5d8a124-3482-49eb-8891-b2d3198f8cf2",
   "metadata": {},
   "outputs": [],
   "source": []
  }
 ],
 "metadata": {
  "kernelspec": {
   "display_name": "Python 3",
   "language": "python",
   "name": "python3"
  },
  "language_info": {
   "codemirror_mode": {
    "name": "ipython",
    "version": 3
   },
   "file_extension": ".py",
   "mimetype": "text/x-python",
   "name": "python",
   "nbconvert_exporter": "python",
   "pygments_lexer": "ipython3",
   "version": "3.8.8"
  }
 },
 "nbformat": 4,
 "nbformat_minor": 5
}
