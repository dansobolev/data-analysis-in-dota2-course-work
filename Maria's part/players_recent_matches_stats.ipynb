{
 "cells": [
  {
   "cell_type": "markdown",
   "id": "cb61134e-25b2-4032-8a42-9a2a0e70bf27",
   "metadata": {},
   "source": [
    "<h2>Статистика игроков за последние 20 матчей (для каждого)"
   ]
  },
  {
   "cell_type": "markdown",
   "id": "e344db35-4dd3-46a0-9a17-58bac35cf756",
   "metadata": {},
   "source": [
    "Для примера возьмем команды, которые участвовали на TI 10:\n",
    "- PSG.LGD \n",
    "- Virtus Pro\n",
    "- Team Spirit\n",
    "- INVICTUS GAMING\n",
    "- T1\n",
    "- Team Secret\n",
    "- Vici Gaming\n",
    "- Evil Geniuses\n",
    "- Undying\n",
    "- OG\n",
    "- Thunder Predator\n",
    "- Team Aster"
   ]
  },
  {
   "cell_type": "code",
   "execution_count": 1,
   "id": "f8f2c660-17ca-4bf9-949e-7bf23ab4e5d2",
   "metadata": {},
   "outputs": [],
   "source": [
    "import requests"
   ]
  },
  {
   "cell_type": "code",
   "execution_count": 7,
   "id": "921ae987-be7c-4f69-8e4b-01341374aa33",
   "metadata": {},
   "outputs": [],
   "source": [
    "get_teams = requests.get('https://api.opendota.com/api/teams')"
   ]
  },
  {
   "cell_type": "code",
   "execution_count": 17,
   "id": "c435324d-d26f-4a68-a7ea-8edf85bfc883",
   "metadata": {},
   "outputs": [],
   "source": [
    "teams_names = ['PSG.LGD', 'Virtus.pro', 'Team Spirit', 'INVICTUS GAMING', 'T1', 'Team Secret', \n",
    "               'Vici Gaming', 'Evil Geniuses', 'Undying', 'OG', 'Thunder Predator', 'Team Aster']"
   ]
  },
  {
   "cell_type": "code",
   "execution_count": 18,
   "id": "1b3089fa-4516-4174-9802-76c2ad0976fc",
   "metadata": {},
   "outputs": [],
   "source": [
    "teams_ids = {team['name']: team['team_id'] for team in get_teams.json() if team['name'] in teams_names}"
   ]
  },
  {
   "cell_type": "code",
   "execution_count": 20,
   "id": "303ee9f8-4384-4d14-bca9-1a9604d2836a",
   "metadata": {},
   "outputs": [
    {
     "data": {
      "text/plain": [
       "{'PSG.LGD': 7566630,\n",
       " 'Team Spirit': 7119388,\n",
       " 'Virtus.pro': 8195818,\n",
       " 'INVICTUS GAMING': 5,\n",
       " 'T1': 7424172,\n",
       " 'Team Secret': 1838315,\n",
       " 'Vici Gaming': 726228,\n",
       " 'Evil Geniuses': 39,\n",
       " 'Undying': 8260983,\n",
       " 'OG': 2586976,\n",
       " 'Thunder Predator': 7298211,\n",
       " 'Team Aster': 6209166}"
      ]
     },
     "execution_count": 20,
     "metadata": {},
     "output_type": "execute_result"
    }
   ],
   "source": [
    "teams_ids"
   ]
  },
  {
   "cell_type": "code",
   "execution_count": 2,
   "id": "66b2ecbd-be8a-4bd5-bf6c-79a96b06f507",
   "metadata": {},
   "outputs": [
    {
     "name": "stdout",
     "output_type": "stream",
     "text": [
      "Successfully download data\n"
     ]
    }
   ],
   "source": [
    "pro_players = requests.get('https://api.opendota.com/api/proPlayers')\n",
    "if pro_players.status_code == 200:\n",
    "    print(\"Successfully download data\")\n",
    "else:\n",
    "    print(\"Something wrong, repeat\")"
   ]
  },
  {
   "cell_type": "code",
   "execution_count": 31,
   "id": "428ec0e3-b4bc-4d0f-87f6-89d45797fb9a",
   "metadata": {},
   "outputs": [],
   "source": [
    "team_players = requests.get('https://api.opendota.com/api/teams/7119388/players')"
   ]
  },
  {
   "cell_type": "code",
   "execution_count": 32,
   "id": "494f523a-07d0-413b-ba4d-30fed2313adc",
   "metadata": {},
   "outputs": [
    {
     "data": {
      "text/plain": [
       "200"
      ]
     },
     "execution_count": 32,
     "metadata": {},
     "output_type": "execute_result"
    }
   ],
   "source": [
    "team_players.status_code"
   ]
  },
  {
   "cell_type": "code",
   "execution_count": 33,
   "id": "c1cae7cf-6c60-4351-8fba-51a8030aea35",
   "metadata": {},
   "outputs": [
    {
     "data": {
      "text/plain": [
       "[{'account_id': 302214028,\n",
       "  'name': 'CoLLapse',\n",
       "  'games_played': 196,\n",
       "  'wins': 129,\n",
       "  'is_current_team_member': True},\n",
       " {'account_id': 113331514,\n",
       "  'name': 'Miposhka',\n",
       "  'games_played': 196,\n",
       "  'wins': 129,\n",
       "  'is_current_team_member': True},\n",
       " {'account_id': 321580662,\n",
       "  'name': 'YATOROGOD',\n",
       "  'games_played': 196,\n",
       "  'wins': 129,\n",
       "  'is_current_team_member': True},\n",
       " {'account_id': 431770905,\n",
       "  'name': 'TORONTOTOKYO',\n",
       "  'games_played': 196,\n",
       "  'wins': 129,\n",
       "  'is_current_team_member': True},\n",
       " {'account_id': 256156323,\n",
       "  'name': 'Kolpakov',\n",
       "  'games_played': 179,\n",
       "  'wins': 119,\n",
       "  'is_current_team_member': False},\n",
       " {'account_id': 90125566,\n",
       "  'name': 'Misha',\n",
       "  'games_played': 148,\n",
       "  'wins': 62,\n",
       "  'is_current_team_member': False},\n",
       " {'account_id': 295697470,\n",
       "  'name': 'Immersion',\n",
       "  'games_played': 140,\n",
       "  'wins': 60,\n",
       "  'is_current_team_member': False},\n",
       " {'account_id': 876110702,\n",
       "  'name': 'Ergon',\n",
       "  'games_played': 138,\n",
       "  'wins': 58,\n",
       "  'is_current_team_member': False},\n",
       " {'account_id': 113995822,\n",
       "  'name': 'iLTW',\n",
       "  'games_played': 78,\n",
       "  'wins': 33,\n",
       "  'is_current_team_member': False},\n",
       " {'account_id': 116934015,\n",
       "  'name': 'dyrachyo',\n",
       "  'games_played': 70,\n",
       "  'wins': 29,\n",
       "  'is_current_team_member': False},\n",
       " {'account_id': 86785083,\n",
       "  'name': 'AfterLife',\n",
       "  'games_played': 59,\n",
       "  'wins': 26,\n",
       "  'is_current_team_member': False},\n",
       " {'account_id': 92847434,\n",
       "  'name': 'Ghostik',\n",
       "  'games_played': 48,\n",
       "  'wins': 23,\n",
       "  'is_current_team_member': False},\n",
       " {'account_id': 130801103,\n",
       "  'name': 'nongrata`',\n",
       "  'games_played': 32,\n",
       "  'wins': 11,\n",
       "  'is_current_team_member': False},\n",
       " {'account_id': 96196828,\n",
       "  'name': '633',\n",
       "  'games_played': 19,\n",
       "  'wins': 4,\n",
       "  'is_current_team_member': False},\n",
       " {'account_id': 11550182,\n",
       "  'name': 'VANSKOR',\n",
       "  'games_played': 19,\n",
       "  'wins': 4,\n",
       "  'is_current_team_member': False},\n",
       " {'account_id': 82305765,\n",
       "  'name': 'velheor',\n",
       "  'games_played': 19,\n",
       "  'wins': 4,\n",
       "  'is_current_team_member': False},\n",
       " {'account_id': 87586992,\n",
       "  'name': 'G',\n",
       "  'games_played': 19,\n",
       "  'wins': 4,\n",
       "  'is_current_team_member': False},\n",
       " {'account_id': 26316691,\n",
       "  'name': 'IllidanSTR',\n",
       "  'games_played': 19,\n",
       "  'wins': 4,\n",
       "  'is_current_team_member': False},\n",
       " {'account_id': 107023378,\n",
       "  'name': 'so bad',\n",
       "  'games_played': 17,\n",
       "  'wins': 10,\n",
       "  'is_current_team_member': False},\n",
       " {'account_id': 480412663,\n",
       "  'name': 'gpk~',\n",
       "  'games_played': 10,\n",
       "  'wins': 4,\n",
       "  'is_current_team_member': False},\n",
       " {'account_id': 203351055,\n",
       "  'name': 'Malik',\n",
       "  'games_played': 8,\n",
       "  'wins': 2,\n",
       "  'is_current_team_member': False},\n",
       " {'account_id': 9403474,\n",
       "  'name': 'yamich',\n",
       "  'games_played': 8,\n",
       "  'wins': 2,\n",
       "  'is_current_team_member': False},\n",
       " {'account_id': 5150808,\n",
       "  'name': 'fn`',\n",
       "  'games_played': 1,\n",
       "  'wins': 0,\n",
       "  'is_current_team_member': False}]"
      ]
     },
     "execution_count": 33,
     "metadata": {},
     "output_type": "execute_result"
    }
   ],
   "source": [
    "team_players.json()"
   ]
  },
  {
   "cell_type": "code",
   "execution_count": null,
   "id": "e20a7d44-de77-4d74-8092-1416d471292c",
   "metadata": {},
   "outputs": [],
   "source": []
  }
 ],
 "metadata": {
  "kernelspec": {
   "display_name": "Python 3",
   "language": "python",
   "name": "python3"
  },
  "language_info": {
   "codemirror_mode": {
    "name": "ipython",
    "version": 3
   },
   "file_extension": ".py",
   "mimetype": "text/x-python",
   "name": "python",
   "nbconvert_exporter": "python",
   "pygments_lexer": "ipython3",
   "version": "3.8.8"
  }
 },
 "nbformat": 4,
 "nbformat_minor": 5
}
